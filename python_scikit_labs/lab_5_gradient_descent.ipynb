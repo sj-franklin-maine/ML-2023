{
  "cells": [
    {
      "cell_type": "markdown",
      "metadata": {
        "id": "TTVvHR5tpyMM"
      },
      "source": [
        "#Lab 5 - Machine Learning, Fall 2023\n",
        "Collaborators: SJ Franklin, Nick Largey"
      ]
    },
    {
      "cell_type": "markdown",
      "metadata": {
        "id": "LQi_uoe5rruC"
      },
      "source": [
        "\n",
        "# Gradient Descent Lab\n",
        "\n",
        "*  We implement our very own gradient descent algorithm to solve the task of predict median house values in Californian districts, given a number of features from these districts.\n",
        "* In this notebook, we strip out a lot of the data investigation work. In addition, we only consider a small subset of the columns\n",
        "* Read/run through the notebook and fund the exercises at the end\n"
      ]
    },
    {
      "cell_type": "markdown",
      "metadata": {
        "id": "7yl9TFgerruF"
      },
      "source": [
        "# Setup"
      ]
    },
    {
      "cell_type": "markdown",
      "metadata": {
        "id": "9jC5TyRerruG"
      },
      "source": [
        "First, let's import a few common modules, ensure MatplotLib plots figures inline and prepare a function to save the figures. We also check that Python 3.5 or later is installed (although Python 2.x may work, it is deprecated so we strongly recommend you use Python 3 instead), as well as Scikit-Learn ≥0.20."
      ]
    },
    {
      "cell_type": "code",
      "execution_count": 1,
      "metadata": {
        "id": "Ic6x-1rxrruG"
      },
      "outputs": [],
      "source": [
        "# Python ≥3.5 is required\n",
        "import sys\n",
        "assert sys.version_info >= (3, 5)\n",
        "\n",
        "# Scikit-Learn ≥0.20 is required\n",
        "import sklearn\n",
        "assert sklearn.__version__ >= \"0.20\"\n",
        "\n",
        "# Common imports\n",
        "import numpy as np\n",
        "\n",
        "import os\n",
        "import tarfile\n",
        "import urllib.request\n",
        "\n",
        "import pandas as pd\n",
        "\n",
        "# To plot pretty figures\n",
        "%matplotlib inline\n",
        "import matplotlib as mpl\n",
        "import matplotlib.pyplot as plt\n",
        "\n",
        "from sklearn.pipeline import Pipeline\n",
        "from sklearn.impute import SimpleImputer\n",
        "from sklearn.preprocessing import StandardScaler\n",
        "\n",
        "from sklearn.linear_model import SGDRegressor\n",
        "from sklearn.model_selection import cross_val_predict\n",
        "from sklearn.model_selection import cross_val_score\n",
        "from sklearn.metrics import confusion_matrix\n",
        "from sklearn.metrics import mean_squared_error\n"
      ]
    },
    {
      "cell_type": "markdown",
      "metadata": {
        "id": "gSOoVQb-rruH"
      },
      "source": [
        "# Get the Data\n",
        "   \n",
        "   But first, few constant and f()s"
      ]
    },
    {
      "cell_type": "code",
      "execution_count": 2,
      "metadata": {
        "id": "o5HNqESprruI"
      },
      "outputs": [],
      "source": [
        "# Where to save the figures\n",
        "PROJECT_ROOT_DIR = \".\"\n",
        "CHAPTER_ID = \"end_to_end_project\"\n",
        "IMAGES_PATH = os.path.join(PROJECT_ROOT_DIR, \"images\", CHAPTER_ID)\n",
        "os.makedirs(IMAGES_PATH, exist_ok=True)\n",
        "\n",
        "def save_fig(fig_id, tight_layout=True, fig_extension=\"png\", resolution=300):\n",
        "    path = os.path.join(IMAGES_PATH, fig_id + \".\" + fig_extension)\n",
        "    print(\"Saving figure\", fig_id)\n",
        "    if tight_layout:\n",
        "        plt.tight_layout()\n",
        "    plt.savefig(path, format=fig_extension, dpi=resolution)"
      ]
    },
    {
      "cell_type": "markdown",
      "metadata": {
        "id": "8m7q9d4FrruI"
      },
      "source": [
        "## Download the Data"
      ]
    },
    {
      "cell_type": "code",
      "execution_count": 3,
      "metadata": {
        "id": "9X4hrD_0rruJ"
      },
      "outputs": [],
      "source": [
        "DOWNLOAD_ROOT = \"https://raw.githubusercontent.com/ageron/handson-ml2/master/\"\n",
        "HOUSING_PATH = os.path.join(\"datasets\", \"housing\")\n",
        "HOUSING_URL = DOWNLOAD_ROOT + \"datasets/housing/housing.tgz\"\n",
        "\n",
        "def fetch_housing_data(housing_url=HOUSING_URL, housing_path=HOUSING_PATH):\n",
        "    if not os.path.isdir(housing_path):\n",
        "        os.makedirs(housing_path)\n",
        "    tgz_path = os.path.join(housing_path, \"housing.tgz\")\n",
        "    urllib.request.urlretrieve(housing_url, tgz_path)\n",
        "    housing_tgz = tarfile.open(tgz_path)\n",
        "    housing_tgz.extractall(path=housing_path)\n",
        "    housing_tgz.close()"
      ]
    },
    {
      "cell_type": "code",
      "execution_count": 4,
      "metadata": {
        "id": "gVeQCrwPrruK"
      },
      "outputs": [],
      "source": [
        "fetch_housing_data()"
      ]
    },
    {
      "cell_type": "code",
      "execution_count": 5,
      "metadata": {
        "id": "46PSSllprruK"
      },
      "outputs": [],
      "source": [
        "def load_housing_data(housing_path=HOUSING_PATH):\n",
        "    csv_path = os.path.join(housing_path, \"housing.csv\")\n",
        "    return pd.read_csv(csv_path)"
      ]
    },
    {
      "cell_type": "code",
      "execution_count": 6,
      "metadata": {
        "colab": {
          "base_uri": "https://localhost:8080/",
          "height": 206
        },
        "id": "G7Xc6SUVrruK",
        "outputId": "b01aa140-2f30-4a55-9f53-fbe92d4fa8e6"
      },
      "outputs": [
        {
          "data": {
            "text/html": [
              "\n",
              "  <div id=\"df-d30e8354-f6f5-46a9-a75c-01234c53b676\" class=\"colab-df-container\">\n",
              "    <div>\n",
              "<style scoped>\n",
              "    .dataframe tbody tr th:only-of-type {\n",
              "        vertical-align: middle;\n",
              "    }\n",
              "\n",
              "    .dataframe tbody tr th {\n",
              "        vertical-align: top;\n",
              "    }\n",
              "\n",
              "    .dataframe thead th {\n",
              "        text-align: right;\n",
              "    }\n",
              "</style>\n",
              "<table border=\"1\" class=\"dataframe\">\n",
              "  <thead>\n",
              "    <tr style=\"text-align: right;\">\n",
              "      <th></th>\n",
              "      <th>longitude</th>\n",
              "      <th>latitude</th>\n",
              "      <th>housing_median_age</th>\n",
              "      <th>total_rooms</th>\n",
              "      <th>total_bedrooms</th>\n",
              "      <th>population</th>\n",
              "      <th>households</th>\n",
              "      <th>median_income</th>\n",
              "      <th>median_house_value</th>\n",
              "      <th>ocean_proximity</th>\n",
              "    </tr>\n",
              "  </thead>\n",
              "  <tbody>\n",
              "    <tr>\n",
              "      <th>0</th>\n",
              "      <td>-122.23</td>\n",
              "      <td>37.88</td>\n",
              "      <td>41.0</td>\n",
              "      <td>880.0</td>\n",
              "      <td>129.0</td>\n",
              "      <td>322.0</td>\n",
              "      <td>126.0</td>\n",
              "      <td>8.3252</td>\n",
              "      <td>452600.0</td>\n",
              "      <td>NEAR BAY</td>\n",
              "    </tr>\n",
              "    <tr>\n",
              "      <th>1</th>\n",
              "      <td>-122.22</td>\n",
              "      <td>37.86</td>\n",
              "      <td>21.0</td>\n",
              "      <td>7099.0</td>\n",
              "      <td>1106.0</td>\n",
              "      <td>2401.0</td>\n",
              "      <td>1138.0</td>\n",
              "      <td>8.3014</td>\n",
              "      <td>358500.0</td>\n",
              "      <td>NEAR BAY</td>\n",
              "    </tr>\n",
              "    <tr>\n",
              "      <th>2</th>\n",
              "      <td>-122.24</td>\n",
              "      <td>37.85</td>\n",
              "      <td>52.0</td>\n",
              "      <td>1467.0</td>\n",
              "      <td>190.0</td>\n",
              "      <td>496.0</td>\n",
              "      <td>177.0</td>\n",
              "      <td>7.2574</td>\n",
              "      <td>352100.0</td>\n",
              "      <td>NEAR BAY</td>\n",
              "    </tr>\n",
              "    <tr>\n",
              "      <th>3</th>\n",
              "      <td>-122.25</td>\n",
              "      <td>37.85</td>\n",
              "      <td>52.0</td>\n",
              "      <td>1274.0</td>\n",
              "      <td>235.0</td>\n",
              "      <td>558.0</td>\n",
              "      <td>219.0</td>\n",
              "      <td>5.6431</td>\n",
              "      <td>341300.0</td>\n",
              "      <td>NEAR BAY</td>\n",
              "    </tr>\n",
              "    <tr>\n",
              "      <th>4</th>\n",
              "      <td>-122.25</td>\n",
              "      <td>37.85</td>\n",
              "      <td>52.0</td>\n",
              "      <td>1627.0</td>\n",
              "      <td>280.0</td>\n",
              "      <td>565.0</td>\n",
              "      <td>259.0</td>\n",
              "      <td>3.8462</td>\n",
              "      <td>342200.0</td>\n",
              "      <td>NEAR BAY</td>\n",
              "    </tr>\n",
              "  </tbody>\n",
              "</table>\n",
              "</div>\n",
              "    <div class=\"colab-df-buttons\">\n",
              "\n",
              "  <div class=\"colab-df-container\">\n",
              "    <button class=\"colab-df-convert\" onclick=\"convertToInteractive('df-d30e8354-f6f5-46a9-a75c-01234c53b676')\"\n",
              "            title=\"Convert this dataframe to an interactive table.\"\n",
              "            style=\"display:none;\">\n",
              "\n",
              "  <svg xmlns=\"http://www.w3.org/2000/svg\" height=\"24px\" viewBox=\"0 -960 960 960\">\n",
              "    <path d=\"M120-120v-720h720v720H120Zm60-500h600v-160H180v160Zm220 220h160v-160H400v160Zm0 220h160v-160H400v160ZM180-400h160v-160H180v160Zm440 0h160v-160H620v160ZM180-180h160v-160H180v160Zm440 0h160v-160H620v160Z\"/>\n",
              "  </svg>\n",
              "    </button>\n",
              "\n",
              "  <style>\n",
              "    .colab-df-container {\n",
              "      display:flex;\n",
              "      gap: 12px;\n",
              "    }\n",
              "\n",
              "    .colab-df-convert {\n",
              "      background-color: #E8F0FE;\n",
              "      border: none;\n",
              "      border-radius: 50%;\n",
              "      cursor: pointer;\n",
              "      display: none;\n",
              "      fill: #1967D2;\n",
              "      height: 32px;\n",
              "      padding: 0 0 0 0;\n",
              "      width: 32px;\n",
              "    }\n",
              "\n",
              "    .colab-df-convert:hover {\n",
              "      background-color: #E2EBFA;\n",
              "      box-shadow: 0px 1px 2px rgba(60, 64, 67, 0.3), 0px 1px 3px 1px rgba(60, 64, 67, 0.15);\n",
              "      fill: #174EA6;\n",
              "    }\n",
              "\n",
              "    .colab-df-buttons div {\n",
              "      margin-bottom: 4px;\n",
              "    }\n",
              "\n",
              "    [theme=dark] .colab-df-convert {\n",
              "      background-color: #3B4455;\n",
              "      fill: #D2E3FC;\n",
              "    }\n",
              "\n",
              "    [theme=dark] .colab-df-convert:hover {\n",
              "      background-color: #434B5C;\n",
              "      box-shadow: 0px 1px 3px 1px rgba(0, 0, 0, 0.15);\n",
              "      filter: drop-shadow(0px 1px 2px rgba(0, 0, 0, 0.3));\n",
              "      fill: #FFFFFF;\n",
              "    }\n",
              "  </style>\n",
              "\n",
              "    <script>\n",
              "      const buttonEl =\n",
              "        document.querySelector('#df-d30e8354-f6f5-46a9-a75c-01234c53b676 button.colab-df-convert');\n",
              "      buttonEl.style.display =\n",
              "        google.colab.kernel.accessAllowed ? 'block' : 'none';\n",
              "\n",
              "      async function convertToInteractive(key) {\n",
              "        const element = document.querySelector('#df-d30e8354-f6f5-46a9-a75c-01234c53b676');\n",
              "        const dataTable =\n",
              "          await google.colab.kernel.invokeFunction('convertToInteractive',\n",
              "                                                    [key], {});\n",
              "        if (!dataTable) return;\n",
              "\n",
              "        const docLinkHtml = 'Like what you see? Visit the ' +\n",
              "          '<a target=\"_blank\" href=https://colab.research.google.com/notebooks/data_table.ipynb>data table notebook</a>'\n",
              "          + ' to learn more about interactive tables.';\n",
              "        element.innerHTML = '';\n",
              "        dataTable['output_type'] = 'display_data';\n",
              "        await google.colab.output.renderOutput(dataTable, element);\n",
              "        const docLink = document.createElement('div');\n",
              "        docLink.innerHTML = docLinkHtml;\n",
              "        element.appendChild(docLink);\n",
              "      }\n",
              "    </script>\n",
              "  </div>\n",
              "\n",
              "\n",
              "<div id=\"df-cfbf10c1-f093-43a0-bf4b-b2cac73630ff\">\n",
              "  <button class=\"colab-df-quickchart\" onclick=\"quickchart('df-cfbf10c1-f093-43a0-bf4b-b2cac73630ff')\"\n",
              "            title=\"Suggest charts.\"\n",
              "            style=\"display:none;\">\n",
              "\n",
              "<svg xmlns=\"http://www.w3.org/2000/svg\" height=\"24px\"viewBox=\"0 0 24 24\"\n",
              "     width=\"24px\">\n",
              "    <g>\n",
              "        <path d=\"M19 3H5c-1.1 0-2 .9-2 2v14c0 1.1.9 2 2 2h14c1.1 0 2-.9 2-2V5c0-1.1-.9-2-2-2zM9 17H7v-7h2v7zm4 0h-2V7h2v10zm4 0h-2v-4h2v4z\"/>\n",
              "    </g>\n",
              "</svg>\n",
              "  </button>\n",
              "\n",
              "<style>\n",
              "  .colab-df-quickchart {\n",
              "      --bg-color: #E8F0FE;\n",
              "      --fill-color: #1967D2;\n",
              "      --hover-bg-color: #E2EBFA;\n",
              "      --hover-fill-color: #174EA6;\n",
              "      --disabled-fill-color: #AAA;\n",
              "      --disabled-bg-color: #DDD;\n",
              "  }\n",
              "\n",
              "  [theme=dark] .colab-df-quickchart {\n",
              "      --bg-color: #3B4455;\n",
              "      --fill-color: #D2E3FC;\n",
              "      --hover-bg-color: #434B5C;\n",
              "      --hover-fill-color: #FFFFFF;\n",
              "      --disabled-bg-color: #3B4455;\n",
              "      --disabled-fill-color: #666;\n",
              "  }\n",
              "\n",
              "  .colab-df-quickchart {\n",
              "    background-color: var(--bg-color);\n",
              "    border: none;\n",
              "    border-radius: 50%;\n",
              "    cursor: pointer;\n",
              "    display: none;\n",
              "    fill: var(--fill-color);\n",
              "    height: 32px;\n",
              "    padding: 0;\n",
              "    width: 32px;\n",
              "  }\n",
              "\n",
              "  .colab-df-quickchart:hover {\n",
              "    background-color: var(--hover-bg-color);\n",
              "    box-shadow: 0 1px 2px rgba(60, 64, 67, 0.3), 0 1px 3px 1px rgba(60, 64, 67, 0.15);\n",
              "    fill: var(--button-hover-fill-color);\n",
              "  }\n",
              "\n",
              "  .colab-df-quickchart-complete:disabled,\n",
              "  .colab-df-quickchart-complete:disabled:hover {\n",
              "    background-color: var(--disabled-bg-color);\n",
              "    fill: var(--disabled-fill-color);\n",
              "    box-shadow: none;\n",
              "  }\n",
              "\n",
              "  .colab-df-spinner {\n",
              "    border: 2px solid var(--fill-color);\n",
              "    border-color: transparent;\n",
              "    border-bottom-color: var(--fill-color);\n",
              "    animation:\n",
              "      spin 1s steps(1) infinite;\n",
              "  }\n",
              "\n",
              "  @keyframes spin {\n",
              "    0% {\n",
              "      border-color: transparent;\n",
              "      border-bottom-color: var(--fill-color);\n",
              "      border-left-color: var(--fill-color);\n",
              "    }\n",
              "    20% {\n",
              "      border-color: transparent;\n",
              "      border-left-color: var(--fill-color);\n",
              "      border-top-color: var(--fill-color);\n",
              "    }\n",
              "    30% {\n",
              "      border-color: transparent;\n",
              "      border-left-color: var(--fill-color);\n",
              "      border-top-color: var(--fill-color);\n",
              "      border-right-color: var(--fill-color);\n",
              "    }\n",
              "    40% {\n",
              "      border-color: transparent;\n",
              "      border-right-color: var(--fill-color);\n",
              "      border-top-color: var(--fill-color);\n",
              "    }\n",
              "    60% {\n",
              "      border-color: transparent;\n",
              "      border-right-color: var(--fill-color);\n",
              "    }\n",
              "    80% {\n",
              "      border-color: transparent;\n",
              "      border-right-color: var(--fill-color);\n",
              "      border-bottom-color: var(--fill-color);\n",
              "    }\n",
              "    90% {\n",
              "      border-color: transparent;\n",
              "      border-bottom-color: var(--fill-color);\n",
              "    }\n",
              "  }\n",
              "</style>\n",
              "\n",
              "  <script>\n",
              "    async function quickchart(key) {\n",
              "      const quickchartButtonEl =\n",
              "        document.querySelector('#' + key + ' button');\n",
              "      quickchartButtonEl.disabled = true;  // To prevent multiple clicks.\n",
              "      quickchartButtonEl.classList.add('colab-df-spinner');\n",
              "      try {\n",
              "        const charts = await google.colab.kernel.invokeFunction(\n",
              "            'suggestCharts', [key], {});\n",
              "      } catch (error) {\n",
              "        console.error('Error during call to suggestCharts:', error);\n",
              "      }\n",
              "      quickchartButtonEl.classList.remove('colab-df-spinner');\n",
              "      quickchartButtonEl.classList.add('colab-df-quickchart-complete');\n",
              "    }\n",
              "    (() => {\n",
              "      let quickchartButtonEl =\n",
              "        document.querySelector('#df-cfbf10c1-f093-43a0-bf4b-b2cac73630ff button');\n",
              "      quickchartButtonEl.style.display =\n",
              "        google.colab.kernel.accessAllowed ? 'block' : 'none';\n",
              "    })();\n",
              "  </script>\n",
              "</div>\n",
              "    </div>\n",
              "  </div>\n"
            ],
            "text/plain": [
              "   longitude  latitude  housing_median_age  total_rooms  total_bedrooms  \\\n",
              "0    -122.23     37.88                41.0        880.0           129.0   \n",
              "1    -122.22     37.86                21.0       7099.0          1106.0   \n",
              "2    -122.24     37.85                52.0       1467.0           190.0   \n",
              "3    -122.25     37.85                52.0       1274.0           235.0   \n",
              "4    -122.25     37.85                52.0       1627.0           280.0   \n",
              "\n",
              "   population  households  median_income  median_house_value ocean_proximity  \n",
              "0       322.0       126.0         8.3252            452600.0        NEAR BAY  \n",
              "1      2401.0      1138.0         8.3014            358500.0        NEAR BAY  \n",
              "2       496.0       177.0         7.2574            352100.0        NEAR BAY  \n",
              "3       558.0       219.0         5.6431            341300.0        NEAR BAY  \n",
              "4       565.0       259.0         3.8462            342200.0        NEAR BAY  "
            ]
          },
          "execution_count": 6,
          "metadata": {},
          "output_type": "execute_result"
        }
      ],
      "source": [
        "housing = load_housing_data()\n",
        "housing.head()"
      ]
    },
    {
      "cell_type": "markdown",
      "metadata": {
        "id": "77gnbrQorruL"
      },
      "source": [
        "## Create a Test Set"
      ]
    },
    {
      "cell_type": "code",
      "execution_count": 7,
      "metadata": {
        "id": "Cdc0Y8tOrruL"
      },
      "outputs": [],
      "source": [
        "# to make this notebook's output identical at every run\n",
        "np.random.seed(42)"
      ]
    },
    {
      "cell_type": "code",
      "execution_count": 8,
      "metadata": {
        "id": "1IO0bSVUrruL"
      },
      "outputs": [],
      "source": [
        "import numpy as np\n",
        "\n",
        "# For illustration only. Sklearn has train_test_split()\n",
        "def split_train_test(data, test_ratio):\n",
        "    shuffled_indices = np.random.permutation(len(data))\n",
        "    test_set_size = int(len(data) * test_ratio)\n",
        "    test_indices = shuffled_indices[:test_set_size]\n",
        "    train_indices = shuffled_indices[test_set_size:]\n",
        "    return data.iloc[train_indices], data.iloc[test_indices]"
      ]
    },
    {
      "cell_type": "code",
      "execution_count": 9,
      "metadata": {
        "colab": {
          "base_uri": "https://localhost:8080/"
        },
        "id": "lvnwsjtmrruM",
        "outputId": "f19d6ce9-6943-49c6-cb88-84f92085a75e"
      },
      "outputs": [
        {
          "data": {
            "text/plain": [
              "16512"
            ]
          },
          "execution_count": 9,
          "metadata": {},
          "output_type": "execute_result"
        }
      ],
      "source": [
        "train_set, test_set = split_train_test(housing, 0.2)\n",
        "len(train_set)"
      ]
    },
    {
      "cell_type": "code",
      "execution_count": 10,
      "metadata": {
        "colab": {
          "base_uri": "https://localhost:8080/"
        },
        "id": "KK-1FCQBrruM",
        "outputId": "f8497e08-bd08-4612-e559-a3caecaeff90"
      },
      "outputs": [
        {
          "data": {
            "text/plain": [
              "4128"
            ]
          },
          "execution_count": 10,
          "metadata": {},
          "output_type": "execute_result"
        }
      ],
      "source": [
        "len(test_set)"
      ]
    },
    {
      "cell_type": "markdown",
      "metadata": {
        "id": "2PEwztYdrruN"
      },
      "source": [
        "# Prepare the Data for Machine Learning Algorithms"
      ]
    },
    {
      "cell_type": "markdown",
      "metadata": {
        "id": "Q7GWob-8rruN"
      },
      "source": [
        "## Data Cleaning ... minimal"
      ]
    },
    {
      "cell_type": "code",
      "execution_count": 11,
      "metadata": {
        "id": "iA6-PFnyrruN"
      },
      "outputs": [],
      "source": [
        "housing_cols = ['housing_median_age', 'total_rooms', 'population', 'median_income']\n",
        "housing_num = housing[housing_cols].fillna(housing[housing_cols].median())\n",
        "housing_labels = housing['median_house_value']"
      ]
    },
    {
      "cell_type": "markdown",
      "metadata": {
        "id": "xqXLwnJNrruO"
      },
      "source": [
        "## Transformation Pipelines"
      ]
    },
    {
      "cell_type": "markdown",
      "metadata": {
        "id": "vS4_ddvWrruO"
      },
      "source": [
        "Now let's build a pipeline for preprocessing the numerical attributes:"
      ]
    },
    {
      "cell_type": "code",
      "execution_count": 12,
      "metadata": {
        "id": "PglE7oikrruO"
      },
      "outputs": [],
      "source": [
        "num_pipeline = Pipeline([\n",
        "        ('imputer', SimpleImputer(strategy=\"median\")),\n",
        "        ('std_scaler', StandardScaler()),\n",
        "    ])\n",
        "\n",
        "housing_num_tr = num_pipeline.fit_transform(housing_num)"
      ]
    },
    {
      "cell_type": "code",
      "execution_count": 13,
      "metadata": {
        "colab": {
          "base_uri": "https://localhost:8080/"
        },
        "id": "dB0xZez1rruO",
        "outputId": "537691a7-e6fa-4964-9dd5-6ae3909d9249"
      },
      "outputs": [
        {
          "data": {
            "text/plain": [
              "array([[ 0.98214266, -0.8048191 , -0.9744286 ,  2.34476576],\n",
              "       [-0.60701891,  2.0458901 ,  0.86143887,  2.33223796],\n",
              "       [ 1.85618152, -0.53574589, -0.82077735,  1.7826994 ],\n",
              "       ...,\n",
              "       [-0.92485123, -0.17499526, -0.3695372 , -1.14259331],\n",
              "       [-0.84539315, -0.35559977, -0.60442933, -1.05458292],\n",
              "       [-1.00430931,  0.06840827, -0.03397701, -0.78012947]])"
            ]
          },
          "execution_count": 13,
          "metadata": {},
          "output_type": "execute_result"
        }
      ],
      "source": [
        "housing_num_tr"
      ]
    },
    {
      "cell_type": "markdown",
      "metadata": {
        "id": "L00HIMd4rruO"
      },
      "source": [
        "# Select and Train a Model"
      ]
    },
    {
      "cell_type": "markdown",
      "metadata": {
        "id": "io13lupKrruO"
      },
      "source": [
        "## Easy way : Training and Evaluating on the Training Set"
      ]
    },
    {
      "cell_type": "code",
      "execution_count": 14,
      "metadata": {
        "colab": {
          "base_uri": "https://localhost:8080/",
          "height": 74
        },
        "id": "5Hx1yB2HrruP",
        "outputId": "c0e78258-f75a-4a00-b513-2cc4d69c49cf"
      },
      "outputs": [
        {
          "data": {
            "text/html": [
              "<style>#sk-container-id-1 {color: black;background-color: white;}#sk-container-id-1 pre{padding: 0;}#sk-container-id-1 div.sk-toggleable {background-color: white;}#sk-container-id-1 label.sk-toggleable__label {cursor: pointer;display: block;width: 100%;margin-bottom: 0;padding: 0.3em;box-sizing: border-box;text-align: center;}#sk-container-id-1 label.sk-toggleable__label-arrow:before {content: \"▸\";float: left;margin-right: 0.25em;color: #696969;}#sk-container-id-1 label.sk-toggleable__label-arrow:hover:before {color: black;}#sk-container-id-1 div.sk-estimator:hover label.sk-toggleable__label-arrow:before {color: black;}#sk-container-id-1 div.sk-toggleable__content {max-height: 0;max-width: 0;overflow: hidden;text-align: left;background-color: #f0f8ff;}#sk-container-id-1 div.sk-toggleable__content pre {margin: 0.2em;color: black;border-radius: 0.25em;background-color: #f0f8ff;}#sk-container-id-1 input.sk-toggleable__control:checked~div.sk-toggleable__content {max-height: 200px;max-width: 100%;overflow: auto;}#sk-container-id-1 input.sk-toggleable__control:checked~label.sk-toggleable__label-arrow:before {content: \"▾\";}#sk-container-id-1 div.sk-estimator input.sk-toggleable__control:checked~label.sk-toggleable__label {background-color: #d4ebff;}#sk-container-id-1 div.sk-label input.sk-toggleable__control:checked~label.sk-toggleable__label {background-color: #d4ebff;}#sk-container-id-1 input.sk-hidden--visually {border: 0;clip: rect(1px 1px 1px 1px);clip: rect(1px, 1px, 1px, 1px);height: 1px;margin: -1px;overflow: hidden;padding: 0;position: absolute;width: 1px;}#sk-container-id-1 div.sk-estimator {font-family: monospace;background-color: #f0f8ff;border: 1px dotted black;border-radius: 0.25em;box-sizing: border-box;margin-bottom: 0.5em;}#sk-container-id-1 div.sk-estimator:hover {background-color: #d4ebff;}#sk-container-id-1 div.sk-parallel-item::after {content: \"\";width: 100%;border-bottom: 1px solid gray;flex-grow: 1;}#sk-container-id-1 div.sk-label:hover label.sk-toggleable__label {background-color: #d4ebff;}#sk-container-id-1 div.sk-serial::before {content: \"\";position: absolute;border-left: 1px solid gray;box-sizing: border-box;top: 0;bottom: 0;left: 50%;z-index: 0;}#sk-container-id-1 div.sk-serial {display: flex;flex-direction: column;align-items: center;background-color: white;padding-right: 0.2em;padding-left: 0.2em;position: relative;}#sk-container-id-1 div.sk-item {position: relative;z-index: 1;}#sk-container-id-1 div.sk-parallel {display: flex;align-items: stretch;justify-content: center;background-color: white;position: relative;}#sk-container-id-1 div.sk-item::before, #sk-container-id-1 div.sk-parallel-item::before {content: \"\";position: absolute;border-left: 1px solid gray;box-sizing: border-box;top: 0;bottom: 0;left: 50%;z-index: -1;}#sk-container-id-1 div.sk-parallel-item {display: flex;flex-direction: column;z-index: 1;position: relative;background-color: white;}#sk-container-id-1 div.sk-parallel-item:first-child::after {align-self: flex-end;width: 50%;}#sk-container-id-1 div.sk-parallel-item:last-child::after {align-self: flex-start;width: 50%;}#sk-container-id-1 div.sk-parallel-item:only-child::after {width: 0;}#sk-container-id-1 div.sk-dashed-wrapped {border: 1px dashed gray;margin: 0 0.4em 0.5em 0.4em;box-sizing: border-box;padding-bottom: 0.4em;background-color: white;}#sk-container-id-1 div.sk-label label {font-family: monospace;font-weight: bold;display: inline-block;line-height: 1.2em;}#sk-container-id-1 div.sk-label-container {text-align: center;}#sk-container-id-1 div.sk-container {/* jupyter's `normalize.less` sets `[hidden] { display: none; }` but bootstrap.min.css set `[hidden] { display: none !important; }` so we also need the `!important` here to be able to override the default hidden behavior on the sphinx rendered scikit-learn.org. See: https://github.com/scikit-learn/scikit-learn/issues/21755 */display: inline-block !important;position: relative;}#sk-container-id-1 div.sk-text-repr-fallback {display: none;}</style><div id=\"sk-container-id-1\" class=\"sk-top-container\"><div class=\"sk-text-repr-fallback\"><pre>SGDRegressor(eta0=0.001, max_iter=10000, random_state=42)</pre><b>In a Jupyter environment, please rerun this cell to show the HTML representation or trust the notebook. <br />On GitHub, the HTML representation is unable to render, please try loading this page with nbviewer.org.</b></div><div class=\"sk-container\" hidden><div class=\"sk-item\"><div class=\"sk-estimator sk-toggleable\"><input class=\"sk-toggleable__control sk-hidden--visually\" id=\"sk-estimator-id-1\" type=\"checkbox\" checked><label for=\"sk-estimator-id-1\" class=\"sk-toggleable__label sk-toggleable__label-arrow\">SGDRegressor</label><div class=\"sk-toggleable__content\"><pre>SGDRegressor(eta0=0.001, max_iter=10000, random_state=42)</pre></div></div></div></div></div>"
            ],
            "text/plain": [
              "SGDRegressor(eta0=0.001, max_iter=10000, random_state=42)"
            ]
          },
          "execution_count": 14,
          "metadata": {},
          "output_type": "execute_result"
        }
      ],
      "source": [
        "sgd_reg = SGDRegressor(max_iter=10000, eta0=1e-3, tol=1e-3, random_state=42)\n",
        "sgd_reg.fit(housing_num_tr, housing_labels)"
      ]
    },
    {
      "cell_type": "code",
      "execution_count": 15,
      "metadata": {
        "colab": {
          "base_uri": "https://localhost:8080/"
        },
        "id": "0M0aiGCHrruP",
        "outputId": "f41a15f4-5f4b-4932-f69f-a1a40b2b1110"
      },
      "outputs": [
        {
          "data": {
            "text/plain": [
              "80211.74173521325"
            ]
          },
          "execution_count": 15,
          "metadata": {},
          "output_type": "execute_result"
        }
      ],
      "source": [
        "housing_predictions = sgd_reg.predict(housing_num_tr)\n",
        "sgd_mse = mean_squared_error(housing_labels, housing_predictions)\n",
        "sgd_rmse = np.sqrt(sgd_mse)\n",
        "sgd_rmse"
      ]
    },
    {
      "cell_type": "code",
      "execution_count": 16,
      "metadata": {
        "colab": {
          "base_uri": "https://localhost:8080/"
        },
        "id": "M3uF8bwerruP",
        "outputId": "48630bb5-2d49-49ca-c27c-4483fc09f7db"
      },
      "outputs": [
        {
          "name": "stdout",
          "output_type": "stream",
          "text": [
            " theta values from SGD [ 24889.63064788  20050.99333882 -12983.02624215  78419.00064077]\n",
            " y intercept  [206839.75946179]\n"
          ]
        }
      ],
      "source": [
        "print(\" theta values from SGD\",sgd_reg.coef_)\n",
        "print(\" y intercept \", sgd_reg.intercept_)"
      ]
    },
    {
      "cell_type": "code",
      "execution_count": 17,
      "metadata": {
        "colab": {
          "base_uri": "https://localhost:8080/",
          "height": 74
        },
        "id": "_hGh_PgErruP",
        "outputId": "84077f83-c49f-4630-f48a-a8d7c5392673"
      },
      "outputs": [
        {
          "data": {
            "text/html": [
              "<style>#sk-container-id-2 {color: black;background-color: white;}#sk-container-id-2 pre{padding: 0;}#sk-container-id-2 div.sk-toggleable {background-color: white;}#sk-container-id-2 label.sk-toggleable__label {cursor: pointer;display: block;width: 100%;margin-bottom: 0;padding: 0.3em;box-sizing: border-box;text-align: center;}#sk-container-id-2 label.sk-toggleable__label-arrow:before {content: \"▸\";float: left;margin-right: 0.25em;color: #696969;}#sk-container-id-2 label.sk-toggleable__label-arrow:hover:before {color: black;}#sk-container-id-2 div.sk-estimator:hover label.sk-toggleable__label-arrow:before {color: black;}#sk-container-id-2 div.sk-toggleable__content {max-height: 0;max-width: 0;overflow: hidden;text-align: left;background-color: #f0f8ff;}#sk-container-id-2 div.sk-toggleable__content pre {margin: 0.2em;color: black;border-radius: 0.25em;background-color: #f0f8ff;}#sk-container-id-2 input.sk-toggleable__control:checked~div.sk-toggleable__content {max-height: 200px;max-width: 100%;overflow: auto;}#sk-container-id-2 input.sk-toggleable__control:checked~label.sk-toggleable__label-arrow:before {content: \"▾\";}#sk-container-id-2 div.sk-estimator input.sk-toggleable__control:checked~label.sk-toggleable__label {background-color: #d4ebff;}#sk-container-id-2 div.sk-label input.sk-toggleable__control:checked~label.sk-toggleable__label {background-color: #d4ebff;}#sk-container-id-2 input.sk-hidden--visually {border: 0;clip: rect(1px 1px 1px 1px);clip: rect(1px, 1px, 1px, 1px);height: 1px;margin: -1px;overflow: hidden;padding: 0;position: absolute;width: 1px;}#sk-container-id-2 div.sk-estimator {font-family: monospace;background-color: #f0f8ff;border: 1px dotted black;border-radius: 0.25em;box-sizing: border-box;margin-bottom: 0.5em;}#sk-container-id-2 div.sk-estimator:hover {background-color: #d4ebff;}#sk-container-id-2 div.sk-parallel-item::after {content: \"\";width: 100%;border-bottom: 1px solid gray;flex-grow: 1;}#sk-container-id-2 div.sk-label:hover label.sk-toggleable__label {background-color: #d4ebff;}#sk-container-id-2 div.sk-serial::before {content: \"\";position: absolute;border-left: 1px solid gray;box-sizing: border-box;top: 0;bottom: 0;left: 50%;z-index: 0;}#sk-container-id-2 div.sk-serial {display: flex;flex-direction: column;align-items: center;background-color: white;padding-right: 0.2em;padding-left: 0.2em;position: relative;}#sk-container-id-2 div.sk-item {position: relative;z-index: 1;}#sk-container-id-2 div.sk-parallel {display: flex;align-items: stretch;justify-content: center;background-color: white;position: relative;}#sk-container-id-2 div.sk-item::before, #sk-container-id-2 div.sk-parallel-item::before {content: \"\";position: absolute;border-left: 1px solid gray;box-sizing: border-box;top: 0;bottom: 0;left: 50%;z-index: -1;}#sk-container-id-2 div.sk-parallel-item {display: flex;flex-direction: column;z-index: 1;position: relative;background-color: white;}#sk-container-id-2 div.sk-parallel-item:first-child::after {align-self: flex-end;width: 50%;}#sk-container-id-2 div.sk-parallel-item:last-child::after {align-self: flex-start;width: 50%;}#sk-container-id-2 div.sk-parallel-item:only-child::after {width: 0;}#sk-container-id-2 div.sk-dashed-wrapped {border: 1px dashed gray;margin: 0 0.4em 0.5em 0.4em;box-sizing: border-box;padding-bottom: 0.4em;background-color: white;}#sk-container-id-2 div.sk-label label {font-family: monospace;font-weight: bold;display: inline-block;line-height: 1.2em;}#sk-container-id-2 div.sk-label-container {text-align: center;}#sk-container-id-2 div.sk-container {/* jupyter's `normalize.less` sets `[hidden] { display: none; }` but bootstrap.min.css set `[hidden] { display: none !important; }` so we also need the `!important` here to be able to override the default hidden behavior on the sphinx rendered scikit-learn.org. See: https://github.com/scikit-learn/scikit-learn/issues/21755 */display: inline-block !important;position: relative;}#sk-container-id-2 div.sk-text-repr-fallback {display: none;}</style><div id=\"sk-container-id-2\" class=\"sk-top-container\"><div class=\"sk-text-repr-fallback\"><pre>LinearRegression()</pre><b>In a Jupyter environment, please rerun this cell to show the HTML representation or trust the notebook. <br />On GitHub, the HTML representation is unable to render, please try loading this page with nbviewer.org.</b></div><div class=\"sk-container\" hidden><div class=\"sk-item\"><div class=\"sk-estimator sk-toggleable\"><input class=\"sk-toggleable__control sk-hidden--visually\" id=\"sk-estimator-id-2\" type=\"checkbox\" checked><label for=\"sk-estimator-id-2\" class=\"sk-toggleable__label sk-toggleable__label-arrow\">LinearRegression</label><div class=\"sk-toggleable__content\"><pre>LinearRegression()</pre></div></div></div></div></div>"
            ],
            "text/plain": [
              "LinearRegression()"
            ]
          },
          "execution_count": 17,
          "metadata": {},
          "output_type": "execute_result"
        }
      ],
      "source": [
        "from sklearn.linear_model import LinearRegression\n",
        "\n",
        "lin_reg = LinearRegression()\n",
        "lin_reg.fit(housing_num_tr, housing_labels)"
      ]
    },
    {
      "cell_type": "code",
      "execution_count": 18,
      "metadata": {
        "colab": {
          "base_uri": "https://localhost:8080/"
        },
        "id": "4e72YkfvrruP",
        "outputId": "78c23f8c-262e-4d39-958a-7b430ee2195d"
      },
      "outputs": [
        {
          "data": {
            "text/plain": [
              "80211.61384149214"
            ]
          },
          "execution_count": 18,
          "metadata": {},
          "output_type": "execute_result"
        }
      ],
      "source": [
        "from sklearn.metrics import mean_squared_error\n",
        "\n",
        "housing_predictions = lin_reg.predict(housing_num_tr)\n",
        "lin_mse = mean_squared_error(housing_labels, housing_predictions)\n",
        "lin_rmse = np.sqrt(lin_mse)\n",
        "lin_rmse"
      ]
    },
    {
      "cell_type": "code",
      "execution_count": 54,
      "metadata": {
        "colab": {
          "base_uri": "https://localhost:8080/"
        },
        "id": "OYu7GuBXrruP",
        "outputId": "2c6e1482-0d9c-40f4-fcd9-487646544840"
      },
      "outputs": [
        {
          "name": "stdout",
          "output_type": "stream",
          "text": [
            " theta values from Linear regression [ 24935.89490518  20319.34402469 -13252.56472763  78406.98656563]\n",
            " y intercept  206855.81690891474\n"
          ]
        }
      ],
      "source": [
        "print(\" theta values from Linear regression\",lin_reg.coef_)\n",
        "print(\" y intercept \", lin_reg.intercept_)"
      ]
    },
    {
      "cell_type": "markdown",
      "metadata": {
        "id": "t_9otfKXrruP"
      },
      "source": [
        "## Manual SGD : Training and Evaluating on the Training Set"
      ]
    },
    {
      "cell_type": "markdown",
      "metadata": {
        "id": "8HehApnwrruQ"
      },
      "source": [
        "Sci-kit learn SGD and linear regression add a term for the y-intercept automatically, but we have to do it ourselves for the manual solution"
      ]
    },
    {
      "cell_type": "code",
      "execution_count": 65,
      "metadata": {
        "colab": {
          "base_uri": "https://localhost:8080/"
        },
        "id": "uU7DhrUyrruQ",
        "outputId": "cc2684eb-9f84-4dfd-c6f7-21d9b546de24"
      },
      "outputs": [
        {
          "name": "stdout",
          "output_type": "stream",
          "text": [
            "(20640, 5)\n",
            "(20640, 4)\n"
          ]
        }
      ],
      "source": [
        "housing_num_tr_b = np.c_[np.ones((housing_num_tr.shape[0], 1)), housing_num_tr] # add x0 = 1 to each instance\n",
        "print(housing_num_tr_b.shape)\n",
        "print(housing_num_tr.shape)"
      ]
    },
    {
      "cell_type": "markdown",
      "metadata": {
        "id": "-mlyGGoRrruQ"
      },
      "source": [
        "### Exercise : Cost Function\n",
        "\n",
        "Implement the Mean squared error cost function for a linear regression (Pg 114 of the book).\n",
        "As a challenge, I encourage you to form the matrix/vector form of the equation. For loop is okay though"
      ]
    },
    {
      "cell_type": "code",
      "execution_count": 66,
      "metadata": {
        "colab": {
          "base_uri": "https://localhost:8080/"
        },
        "id": "jsBO_MFMrruQ",
        "outputId": "3e30b5d2-df8f-492a-daa3-aafd90ba67ac"
      },
      "outputs": [
        {
          "data": {
            "text/plain": [
              "49223252243.4094"
            ]
          },
          "execution_count": 66,
          "metadata": {},
          "output_type": "execute_result"
        }
      ],
      "source": [
        "# Can also use np.sum\n",
        "# Define computeCost function\n",
        "def computeCost(X, y, theta):\n",
        "  sum = 0\n",
        "  for i, x in enumerate(X):\n",
        "    sum += ((theta.T.dot(x) - y[i])) ** 2\n",
        "  return (sum / X.shape[0])\n",
        "\n",
        "computeCost(housing_num_tr, housing_labels, sgd_reg.coef_)"
      ]
    },
    {
      "cell_type": "markdown",
      "metadata": {
        "id": "DoWQq11srruQ"
      },
      "source": [
        "We test out our cost function for specific theta values"
      ]
    },
    {
      "cell_type": "code",
      "execution_count": 22,
      "metadata": {
        "colab": {
          "base_uri": "https://localhost:8080/"
        },
        "id": "kKubGIXLrruQ",
        "outputId": "e3bec1db-0120-4c94-b0c1-5e885bba98cc"
      },
      "outputs": [
        {
          "name": "stdout",
          "output_type": "stream",
          "text": [
            "With theta = [0. 0. 0. 0. 0.], \n",
            "Cost computed = 56104831989.87 \n"
          ]
        }
      ],
      "source": [
        "# Calculate computeCost with theta equal to zeros\n",
        "theta = np.zeros(housing_num_tr_b.shape[1])\n",
        "\n",
        "J1 = computeCost(housing_num_tr_b, housing_labels, theta)\n",
        "print(\"With theta = %s, \\nCost computed = %.2f \" % (theta, J1))\n",
        "\n",
        "#Answer Should be :\n",
        "#    With theta = [0. 0. 0. 0. 0.],\n",
        "#    Cost computed = 56104831989\n",
        "\n"
      ]
    },
    {
      "cell_type": "markdown",
      "metadata": {
        "id": "Yg50r3MQrruQ"
      },
      "source": [
        "### Exercise : Batch Gradient Descent\n",
        "\n",
        "Implement the batch gradient descent algorithm, save the cost at every iteration and return it along with\n",
        "the improved theta value"
      ]
    },
    {
      "cell_type": "code",
      "execution_count": 43,
      "metadata": {
        "colab": {
          "base_uri": "https://localhost:8080/"
        },
        "id": "HXJ_ZWGM-3jE",
        "outputId": "105101be-abd0-4326-966d-11c92bdaaa63"
      },
      "outputs": [
        {
          "name": "stdout",
          "output_type": "stream",
          "text": [
            "Requirement already satisfied: tqdm in /usr/local/lib/python3.10/dist-packages (4.66.1)\n"
          ]
        }
      ],
      "source": [
        "pip install tqdm"
      ]
    },
    {
      "cell_type": "code",
      "execution_count": 75,
      "metadata": {
        "id": "qi8Y7pf_rruQ"
      },
      "outputs": [],
      "source": [
        "#  Define the gradient descent algorithm and return cost history and theta\n",
        "from tqdm import tqdm\n",
        "\n",
        "def gradientDescent(X, y, theta, iterations, eta):\n",
        "    J_hist = np.zeros([iterations])\n",
        "    gradient = np.zeros([X.shape[1]])\n",
        "    # Manually calculate each partial derivative (the gradient) of the cost function\n",
        "    for j in range(gradient.shape[0]):\n",
        "      sum = 0\n",
        "      for i, x in enumerate(X):\n",
        "        sum += ((theta.T.dot(x) - y[i])) * (x[j])\n",
        "\n",
        "      gradient[j] = (2 / X.shape[0]) * sum\n",
        "\n",
        "    # Set progress bar\n",
        "    progress_bar = tqdm(total=iterations, desc=\"Gradient Descent Progress\")\n",
        "\n",
        "    # # Calculate the gradient descent at each step (takes 9 minutes)\n",
        "    # for iteration in range(iterations):\n",
        "    #   theta = theta - eta * gradient\n",
        "    #   J_hist[iteration] = computeCost(X, y, theta) # Save cost at each step\n",
        "    #   progress_bar.update(1) # Update progress bar\n",
        "\n",
        "    # Calculate the gradient descent at each step (fast version)\n",
        "    for iteration in range(iterations):\n",
        "      error = X.dot(theta) - y            # predicted value, subtracted from the label\n",
        "      gradients = (2/(X.shape[0])) * X.T.dot(error)\n",
        "      theta = theta - eta * gradients\n",
        "      J_hist[iteration] = np.mean(error ** 2)\n",
        "      progress_bar.update(1) # Update progress bar\n",
        "\n",
        "    # Close the progress bar when done\n",
        "    progress_bar.close()\n",
        "\n",
        "    return theta, J_hist"
      ]
    },
    {
      "cell_type": "markdown",
      "metadata": {
        "id": "rxdC8iKwrruR"
      },
      "source": [
        "Now run the batch gradient descent algorithm and check against my results"
      ]
    },
    {
      "cell_type": "code",
      "execution_count": 73,
      "metadata": {
        "colab": {
          "base_uri": "https://localhost:8080/"
        },
        "id": "UVvfyo0mcdlB",
        "outputId": "391b93a9-cbfb-49df-89dd-946a8ce9182f"
      },
      "outputs": [
        {
          "name": "stderr",
          "output_type": "stream",
          "text": [
            "\n",
            "Gradient Descent Progress:   0%|          | 0/5000 [00:00<?, ?it/s]\u001b[A\n",
            "Gradient Descent Progress:   2%|▏         | 111/5000 [00:00<00:04, 1103.79it/s]\u001b[A\n",
            "Gradient Descent Progress:   4%|▍         | 222/5000 [00:00<00:06, 775.53it/s] \u001b[A\n",
            "Gradient Descent Progress:   6%|▌         | 309/5000 [00:00<00:05, 809.88it/s]\u001b[A\n",
            "Gradient Descent Progress:   8%|▊         | 417/5000 [00:00<00:05, 902.83it/s]\u001b[A\n",
            "Gradient Descent Progress:  10%|█         | 511/5000 [00:00<00:05, 807.38it/s]\u001b[A\n",
            "Gradient Descent Progress:  12%|█▏        | 596/5000 [00:00<00:05, 808.31it/s]\u001b[A\n",
            "Gradient Descent Progress:  14%|█▎        | 684/5000 [00:00<00:05, 829.27it/s]\u001b[A\n",
            "Gradient Descent Progress:  16%|█▌        | 782/5000 [00:00<00:04, 871.81it/s]\u001b[A\n",
            "Gradient Descent Progress:  17%|█▋        | 871/5000 [00:01<00:04, 837.19it/s]\u001b[A\n",
            "Gradient Descent Progress:  19%|█▉        | 960/5000 [00:01<00:04, 850.86it/s]\u001b[A\n",
            "Gradient Descent Progress:  21%|██        | 1056/5000 [00:01<00:04, 881.02it/s]\u001b[A\n",
            "Gradient Descent Progress:  23%|██▎       | 1145/5000 [00:01<00:04, 876.89it/s]\u001b[A\n",
            "Gradient Descent Progress:  25%|██▍       | 1234/5000 [00:01<00:04, 852.26it/s]\u001b[A\n",
            "Gradient Descent Progress:  27%|██▋       | 1330/5000 [00:01<00:04, 880.18it/s]\u001b[A\n",
            "Gradient Descent Progress:  29%|██▊       | 1428/5000 [00:01<00:03, 909.15it/s]\u001b[A\n",
            "Gradient Descent Progress:  30%|███       | 1520/5000 [00:01<00:04, 842.43it/s]\u001b[A\n",
            "Gradient Descent Progress:  32%|███▏      | 1612/5000 [00:01<00:03, 863.25it/s]\u001b[A\n",
            "Gradient Descent Progress:  34%|███▍      | 1700/5000 [00:01<00:03, 853.81it/s]\u001b[A\n",
            "Gradient Descent Progress:  36%|███▌      | 1787/5000 [00:02<00:04, 799.46it/s]\u001b[A\n",
            "Gradient Descent Progress:  38%|███▊      | 1875/5000 [00:02<00:03, 820.28it/s]\u001b[A\n",
            "Gradient Descent Progress:  39%|███▉      | 1958/5000 [00:02<00:03, 810.18it/s]\u001b[A\n",
            "Gradient Descent Progress:  41%|████      | 2055/5000 [00:02<00:03, 853.60it/s]\u001b[A\n",
            "Gradient Descent Progress:  43%|████▎     | 2158/5000 [00:02<00:03, 903.17it/s]\u001b[A\n",
            "Gradient Descent Progress:  45%|████▍     | 2249/5000 [00:02<00:03, 882.52it/s]\u001b[A\n",
            "Gradient Descent Progress:  47%|████▋     | 2338/5000 [00:02<00:03, 858.13it/s]\u001b[A\n",
            "Gradient Descent Progress:  48%|████▊     | 2425/5000 [00:02<00:02, 859.07it/s]\u001b[A\n",
            "Gradient Descent Progress:  50%|█████     | 2525/5000 [00:02<00:02, 898.30it/s]\u001b[A\n",
            "Gradient Descent Progress:  52%|█████▏    | 2616/5000 [00:03<00:02, 863.02it/s]\u001b[A\n",
            "Gradient Descent Progress:  54%|█████▍    | 2703/5000 [00:03<00:02, 841.13it/s]\u001b[A\n",
            "Gradient Descent Progress:  56%|█████▌    | 2790/5000 [00:03<00:02, 849.17it/s]\u001b[A\n",
            "Gradient Descent Progress:  58%|█████▊    | 2880/5000 [00:03<00:02, 862.09it/s]\u001b[A\n",
            "Gradient Descent Progress:  59%|█████▉    | 2967/5000 [00:03<00:03, 669.28it/s]\u001b[A\n",
            "Gradient Descent Progress:  61%|██████    | 3041/5000 [00:03<00:03, 568.34it/s]\u001b[A\n",
            "Gradient Descent Progress:  62%|██████▏   | 3105/5000 [00:03<00:03, 509.39it/s]\u001b[A\n",
            "Gradient Descent Progress:  63%|██████▎   | 3162/5000 [00:04<00:03, 476.49it/s]\u001b[A\n",
            "Gradient Descent Progress:  64%|██████▍   | 3214/5000 [00:04<00:04, 444.67it/s]\u001b[A\n",
            "Gradient Descent Progress:  65%|██████▌   | 3261/5000 [00:04<00:04, 420.34it/s]\u001b[A\n",
            "Gradient Descent Progress:  66%|██████▌   | 3305/5000 [00:04<00:04, 412.90it/s]\u001b[A\n",
            "Gradient Descent Progress:  67%|██████▋   | 3355/5000 [00:04<00:03, 433.46it/s]\u001b[A\n",
            "Gradient Descent Progress:  68%|██████▊   | 3400/5000 [00:04<00:03, 429.96it/s]\u001b[A\n",
            "Gradient Descent Progress:  69%|██████▉   | 3444/5000 [00:04<00:03, 425.92it/s]\u001b[A\n",
            "Gradient Descent Progress:  70%|██████▉   | 3492/5000 [00:04<00:03, 438.73it/s]\u001b[A\n",
            "Gradient Descent Progress:  71%|███████   | 3537/5000 [00:04<00:03, 440.66it/s]\u001b[A\n",
            "Gradient Descent Progress:  72%|███████▏  | 3586/5000 [00:05<00:03, 454.11it/s]\u001b[A\n",
            "Gradient Descent Progress:  73%|███████▎  | 3632/5000 [00:05<00:03, 446.02it/s]\u001b[A\n",
            "Gradient Descent Progress:  74%|███████▎  | 3683/5000 [00:05<00:02, 463.24it/s]\u001b[A\n",
            "Gradient Descent Progress:  75%|███████▍  | 3730/5000 [00:05<00:02, 444.99it/s]\u001b[A\n",
            "Gradient Descent Progress:  76%|███████▌  | 3775/5000 [00:05<00:02, 437.83it/s]\u001b[A\n",
            "Gradient Descent Progress:  76%|███████▋  | 3819/5000 [00:05<00:02, 404.23it/s]\u001b[A\n",
            "Gradient Descent Progress:  77%|███████▋  | 3861/5000 [00:05<00:02, 407.99it/s]\u001b[A\n",
            "Gradient Descent Progress:  78%|███████▊  | 3910/5000 [00:05<00:02, 429.89it/s]\u001b[A\n",
            "Gradient Descent Progress:  79%|███████▉  | 3963/5000 [00:05<00:02, 456.06it/s]\u001b[A\n",
            "Gradient Descent Progress:  80%|████████  | 4014/5000 [00:06<00:02, 469.61it/s]\u001b[A\n",
            "Gradient Descent Progress:  81%|████████▏ | 4063/5000 [00:06<00:01, 472.56it/s]\u001b[A\n",
            "Gradient Descent Progress:  82%|████████▏ | 4111/5000 [00:06<00:01, 464.90it/s]\u001b[A\n",
            "Gradient Descent Progress:  83%|████████▎ | 4158/5000 [00:06<00:01, 453.86it/s]\u001b[A\n",
            "Gradient Descent Progress:  84%|████████▍ | 4205/5000 [00:06<00:01, 456.16it/s]\u001b[A\n",
            "Gradient Descent Progress:  85%|████████▌ | 4254/5000 [00:06<00:01, 463.95it/s]\u001b[A\n",
            "Gradient Descent Progress:  86%|████████▌ | 4301/5000 [00:06<00:01, 459.14it/s]\u001b[A\n",
            "Gradient Descent Progress:  87%|████████▋ | 4350/5000 [00:06<00:01, 465.49it/s]\u001b[A\n",
            "Gradient Descent Progress:  88%|████████▊ | 4397/5000 [00:06<00:01, 456.17it/s]\u001b[A\n",
            "Gradient Descent Progress:  89%|████████▉ | 4443/5000 [00:06<00:01, 450.06it/s]\u001b[A\n",
            "Gradient Descent Progress:  90%|████████▉ | 4489/5000 [00:07<00:01, 427.91it/s]\u001b[A\n",
            "Gradient Descent Progress:  91%|█████████ | 4533/5000 [00:07<00:01, 403.06it/s]\u001b[A\n",
            "Gradient Descent Progress:  91%|█████████▏| 4574/5000 [00:07<00:01, 369.24it/s]\u001b[A\n",
            "Gradient Descent Progress:  93%|█████████▎| 4634/5000 [00:07<00:00, 428.84it/s]\u001b[A\n",
            "Gradient Descent Progress:  94%|█████████▍| 4715/5000 [00:07<00:00, 532.38it/s]\u001b[A\n",
            "Gradient Descent Progress:  96%|█████████▋| 4817/5000 [00:07<00:00, 667.99it/s]\u001b[A\n",
            "Gradient Descent Progress:  98%|█████████▊| 4903/5000 [00:07<00:00, 722.43it/s]\u001b[A\n",
            "Gradient Descent Progress: 100%|██████████| 5000/5000 [00:07<00:00, 634.95it/s]\n"
          ]
        },
        {
          "name": "stdout",
          "output_type": "stream",
          "text": [
            "With theta = [206855.81690892  24935.97880726  20320.71033762 -13253.86553799\n",
            "  78406.69759784], \n",
            "Cost computed = 6433902995.49 \n"
          ]
        }
      ],
      "source": [
        "theta, J_hist = gradientDescent(housing_num_tr_b, housing_labels, theta, iterations=5000,eta=1e-3)\n",
        "J1 = computeCost(housing_num_tr_b, housing_labels, theta)\n",
        "print(\"With theta = %s, \\nCost computed = %.2f \" % (theta, J1))"
      ]
    },
    {
      "cell_type": "code",
      "execution_count": 45,
      "metadata": {
        "colab": {
          "base_uri": "https://localhost:8080/"
        },
        "id": "5Ro-8SF2rruR",
        "outputId": "d64980c7-2bc0-44e4-ed1d-1bf8298ef72c"
      },
      "outputs": [
        {
          "name": "stderr",
          "output_type": "stream",
          "text": [
            "Gradient Descent Progress: 100%|██████████| 5000/5000 [09:04<00:00,  9.19it/s]\n"
          ]
        },
        {
          "name": "stdout",
          "output_type": "stream",
          "text": [
            "With theta = [206855.81690905  24936.81809621  20334.37783283 -13266.8777982\n",
            "  78403.80699654], \n",
            "Cost computed = 6433903048.03 \n"
          ]
        }
      ],
      "source": [
        "theta, J_hist = gradientDescent(housing_num_tr_b, housing_labels, theta, iterations=5000,eta=1e-3)\n",
        "J1 = computeCost(housing_num_tr_b, housing_labels, theta)\n",
        "print(\"With theta = %s, \\nCost computed = %.2f \" % (theta, J1))\n",
        "\n",
        "# With theta initialized to zero, I get 3221295137.061254 for the cost"
      ]
    },
    {
      "cell_type": "code",
      "execution_count": 76,
      "metadata": {
        "colab": {
          "base_uri": "https://localhost:8080/"
        },
        "id": "k0DB1q4wrruR",
        "outputId": "f4aeb19d-4613-4bb1-a1af-c467f75bab2a"
      },
      "outputs": [
        {
          "name": "stdout",
          "output_type": "stream",
          "text": [
            " theta values from Manual BGD [ 24935.97880726  20320.71033762 -13253.86553799]\n",
            " y intercept  206855.81690892196\n"
          ]
        }
      ],
      "source": [
        "print(\" theta values from Manual BGD\",theta[1:4])\n",
        "print(\" y intercept \", theta[0])"
      ]
    },
    {
      "cell_type": "code",
      "execution_count": 77,
      "metadata": {
        "colab": {
          "base_uri": "https://localhost:8080/",
          "height": 469
        },
        "id": "pVjiCdjTrruR",
        "outputId": "640eaa96-56d8-4c21-a64d-846cdcc31641"
      },
      "outputs": [
        {
          "data": {
            "text/plain": [
              "[<matplotlib.lines.Line2D at 0x784065584d30>]"
            ]
          },
          "execution_count": 77,
          "metadata": {},
          "output_type": "execute_result"
        },
        {
          "data": {
            "image/png": "[encoded data removed]",
            "text/plain": [
              "<Figure size 640x480 with 1 Axes>"
            ]
          },
          "metadata": {},
          "output_type": "display_data"
        }
      ],
      "source": [
        "# Lets look at how the cost changes through iterations\n",
        "plt.title(\"J_history Plot\")\n",
        "plt.plot(J_hist)"
      ]
    },
    {
      "cell_type": "markdown",
      "metadata": {
        "id": "cGO7Gol0rruR"
      },
      "source": [
        "### Exercise : Compute the root mean squared error\n",
        "\n",
        "Compare results to linear regression and Stochastic gradient descent. Why do you think the results are not quite as good as the scikit learn results ? (May want to look\n",
        "\n",
        "I get 80265.74782634563 with theta initialized to zero, iterations=5000,eta=1e-3"
      ]
    },
    {
      "cell_type": "markdown",
      "metadata": {
        "id": "EqB4ggiBis63"
      },
      "source": [
        "# Answer:\n",
        "\n",
        "I think we must've messed something up somewhere. The cost function value wasn't getting anywhere close to the example cost (3221295137.061254), and the RMSE values have all been similar to the Linear and SGD scikit models...\n",
        "\n",
        "Tried lowering the hyperparameters, but getting very similar results, which tells us that something has DEFINITELY gone wrong. This feels like an early sign of overfitting the training data.\n",
        "\n",
        "Put in a few hours making modifications to the manual BDG. Some of the attempts were running for several minutes (added in progress bars, because we were worried that things might have been going on infinite loops, and wanted to make sure it wasn't waiting for nothing). Stopping here since we think the expectation was to not spend as much time on the lab as has been spent."
      ]
    },
    {
      "cell_type": "code",
      "execution_count": 85,
      "metadata": {
        "colab": {
          "base_uri": "https://localhost:8080/"
        },
        "id": "UGY_xB1jHTHP",
        "outputId": "07a2f886-96c8-46f9-e757-25ae6c52890f"
      },
      "outputs": [
        {
          "data": {
            "text/plain": [
              "80211.61384248229"
            ]
          },
          "execution_count": 85,
          "metadata": {},
          "output_type": "execute_result"
        }
      ],
      "source": [
        "bgd_rmse = np.sqrt(J1)\n",
        "bgd_rmse"
      ]
    },
    {
      "cell_type": "code",
      "execution_count": 79,
      "metadata": {
        "colab": {
          "base_uri": "https://localhost:8080/"
        },
        "id": "e762c2JDrruR",
        "outputId": "1953f44c-7871-43e1-9240-d48b98bc17f8"
      },
      "outputs": [
        {
          "name": "stdout",
          "output_type": "stream",
          "text": [
            " theta values from SGD [ 24889.63064788  20050.99333882 -12983.02624215  78419.00064077]\n",
            " y intercept  [206839.75946179]\n",
            "80211.74173521325\n",
            "\n",
            "\n",
            " theta values from Linear regression [ 24935.89490518  20319.34402469 -13252.56472763  78406.98656563]\n",
            " y intercept  206855.81690891474\n",
            "80211.61384149214\n",
            "\n",
            "\n",
            " theta values from Manual BGD [ 24935.97880726  20320.71033762 -13253.86553799]\n",
            " y intercept  206855.81690892196\n",
            "80211.61384421986\n"
          ]
        }
      ],
      "source": [
        "print(\" theta values from SGD\",sgd_reg.coef_)\n",
        "print(\" y intercept \", sgd_reg.intercept_)\n",
        "print(sgd_rmse)\n",
        "\n",
        "print(\"\\n\\n theta values from Linear regression\",lin_reg.coef_)\n",
        "print(\" y intercept \", lin_reg.intercept_)\n",
        "print(lin_rmse)\n",
        "\n",
        "print(\"\\n\\n theta values from Manual BGD\",theta[1:4])\n",
        "print(\" y intercept \", theta[0])\n",
        "print(bgd_rmse)"
      ]
    },
    {
      "cell_type": "markdown",
      "metadata": {
        "id": "3hvyrkJqrruR"
      },
      "source": [
        "### Exercise : Hyperparameters\n",
        "\n",
        "Change some of the hyperparameters (iterations or eta) to get an improved root mean squared (I was able to match scki-kit learn results of 80211)"
      ]
    },
    {
      "cell_type": "code",
      "execution_count": 84,
      "metadata": {
        "colab": {
          "base_uri": "https://localhost:8080/"
        },
        "id": "y7cxx_AUhqFL",
        "outputId": "fbf2546a-f0eb-4354-850e-d7e3de010a71"
      },
      "outputs": [
        {
          "name": "stderr",
          "output_type": "stream",
          "text": [
            "\n",
            "Gradient Descent Progress: 100%|██████████| 1/1 [00:00<00:00, 189.00it/s]\n"
          ]
        },
        {
          "name": "stdout",
          "output_type": "stream",
          "text": [
            "With theta = [206855.81690892  24935.94546231  20320.16732809 -13253.34856095\n",
            "  78406.81244141], \n",
            "Cost computed = 6433902995.22 \n"
          ]
        },
        {
          "data": {
            "text/plain": [
              "80211.61384248229"
            ]
          },
          "execution_count": 84,
          "metadata": {},
          "output_type": "execute_result"
        }
      ],
      "source": [
        "theta, J_hist = gradientDescent(housing_num_tr_b, housing_labels, theta, iterations=1,eta=1e-1)\n",
        "J1 = computeCost(housing_num_tr_b, housing_labels, theta)\n",
        "print(\"With theta = %s, \\nCost computed = %.2f \" % (theta, J1))\n",
        "bgd_rmse = np.sqrt(J1)\n",
        "bgd_rmse"
      ]
    },
    {
      "cell_type": "markdown",
      "metadata": {
        "id": "GUiygcsFrruR"
      },
      "source": [
        "### Graduate students, Extra credit\n",
        "\n",
        "Implement Stochastic gradient descent and compare the performance to batch gradient descent. Explain the results"
      ]
    },
    {
      "cell_type": "code",
      "execution_count": 86,
      "metadata": {
        "id": "mbETQrC7rruS"
      },
      "outputs": [],
      "source": [
        "# learning schedule hyperparameters\n",
        "t0, t1 = 5, 50\n",
        "\n",
        "def learning_schedule(t):\n",
        "  return t0 / (t + t1)\n",
        "\n",
        "#  Define the gradient descent algorithm and return theta\n",
        "from tqdm import tqdm\n",
        "\n",
        "def stochGradientDescent(X, y, theta, epochs, eta):\n",
        "    m = X.shape[0]\n",
        "\n",
        "    # Set progress bar\n",
        "    progress_bar = tqdm(total=epochs, desc=\"Gradient Descent Progress\")\n",
        "\n",
        "    for epoch in range(epochs):\n",
        "      for i in range(m):\n",
        "        random_index = np.random.randint(m)\n",
        "        xi = X[random_index:random_index+1]\n",
        "        yi = y[random_index:random_index+1]\n",
        "        gradients = 2 * xi.T.dot(xi.dot(theta) - yi)\n",
        "        eta = learning_schedule(epoch * m + i)\n",
        "        theta = theta - eta * gradients\n",
        "\n",
        "      progress_bar.update(1) # Update progress bar\n",
        "\n",
        "    # Close the progress bar when done\n",
        "    progress_bar.close()\n",
        "\n",
        "    return theta"
      ]
    },
    {
      "cell_type": "code",
      "execution_count": 87,
      "metadata": {
        "colab": {
          "base_uri": "https://localhost:8080/"
        },
        "id": "NvuKOGW7n6AX",
        "outputId": "11c2722d-7f35-45c3-a04a-5e9e583a8347"
      },
      "outputs": [
        {
          "name": "stderr",
          "output_type": "stream",
          "text": [
            "\n",
            "Gradient Descent Progress:   0%|          | 0/10 [00:00<?, ?it/s]\u001b[A\n",
            "Gradient Descent Progress:  10%|█         | 1/10 [00:05<00:53,  5.99s/it]\u001b[A\n",
            "Gradient Descent Progress:  20%|██        | 2/10 [00:12<00:48,  6.05s/it]\u001b[A\n",
            "Gradient Descent Progress:  30%|███       | 3/10 [00:18<00:41,  5.99s/it]\u001b[A\n",
            "Gradient Descent Progress:  40%|████      | 4/10 [00:24<00:36,  6.10s/it]\u001b[A\n",
            "Gradient Descent Progress:  50%|█████     | 5/10 [00:29<00:29,  5.85s/it]\u001b[A\n",
            "Gradient Descent Progress:  60%|██████    | 6/10 [00:35<00:23,  5.89s/it]\u001b[A\n",
            "Gradient Descent Progress:  70%|███████   | 7/10 [00:41<00:18,  6.01s/it]\u001b[A\n",
            "Gradient Descent Progress:  80%|████████  | 8/10 [00:47<00:12,  6.00s/it]\u001b[A\n",
            "Gradient Descent Progress:  90%|█████████ | 9/10 [00:53<00:05,  5.91s/it]\u001b[A\n",
            "Gradient Descent Progress: 100%|██████████| 10/10 [00:59<00:00,  5.99s/it]"
          ]
        },
        {
          "name": "stdout",
          "output_type": "stream",
          "text": [
            "With theta = [207281.95875258  24650.71516967  20075.45507954 -13125.03603814\n",
            "  78669.22027272], \n",
            "Cost computed = 6434221202.10 \n"
          ]
        },
        {
          "name": "stderr",
          "output_type": "stream",
          "text": [
            "\n"
          ]
        },
        {
          "data": {
            "text/plain": [
              "80213.59736419316"
            ]
          },
          "execution_count": 87,
          "metadata": {},
          "output_type": "execute_result"
        }
      ],
      "source": [
        "theta = stochGradientDescent(housing_num_tr_b, housing_labels, theta, epochs=10,eta=1e-3)\n",
        "J1 = computeCost(housing_num_tr_b, housing_labels, theta)\n",
        "print(\"\\nWith theta = %s, \\nCost computed = %.2f \" % (theta, J1))\n",
        "bgd_rmse = np.sqrt(J1)\n",
        "bgd_rmse"
      ]
    }
  ],
  "metadata": {
    "colab": {
      "provenance": []
    },
    "kernelspec": {
      "display_name": "Python 3 (ipykernel)",
      "language": "python",
      "name": "python3"
    },
    "language_info": {
      "codemirror_mode": {
        "name": "ipython",
        "version": 3
      },
      "file_extension": ".py",
      "mimetype": "text/x-python",
      "name": "python",
      "nbconvert_exporter": "python",
      "pygments_lexer": "ipython3",
      "version": "3.9.7"
    },
    "nav_menu": {
      "height": "279px",
      "width": "309px"
    },
    "toc": {
      "nav_menu": {},
      "number_sections": true,
      "sideBar": true,
      "skip_h1_title": false,
      "toc_cell": false,
      "toc_position": {},
      "toc_section_display": "block",
      "toc_window_display": false
    }
  },
  "nbformat": 4,
  "nbformat_minor": 0
}
